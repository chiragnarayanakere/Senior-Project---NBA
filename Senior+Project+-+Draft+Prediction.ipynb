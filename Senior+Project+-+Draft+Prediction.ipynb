{
 "cells": [
  {
   "cell_type": "markdown",
   "metadata": {},
   "source": [
    "# MULTIVARIABLE LINEAR REGRESSION"
   ]
  },
  {
   "cell_type": "markdown",
   "metadata": {},
   "source": [
    "Imported libraries"
   ]
  },
  {
   "cell_type": "code",
   "execution_count": 1,
   "metadata": {
    "collapsed": true
   },
   "outputs": [],
   "source": [
    "import pandas as pd\n",
    "import numpy as np\n",
    "import seaborn as sns\n",
    "import matplotlib.pyplot as plt\n",
    "import plotly.plotly as py\n",
    "import warnings\n",
    "from sklearn.model_selection import train_test_split\n",
    "from sklearn.metrics import *\n",
    "warnings.filterwarnings('ignore')"
   ]
  },
  {
   "cell_type": "markdown",
   "metadata": {},
   "source": [
    "Using linear regression to predict the Hoopnet rating"
   ]
  },
  {
   "cell_type": "code",
   "execution_count": 2,
   "metadata": {
    "collapsed": true
   },
   "outputs": [],
   "source": [
    "from sklearn.linear_model import LinearRegression"
   ]
  },
  {
   "cell_type": "code",
   "execution_count": 3,
   "metadata": {
    "collapsed": true
   },
   "outputs": [],
   "source": [
    "regWEKA = LinearRegression()\n",
    "regAll = LinearRegression()"
   ]
  },
  {
   "cell_type": "markdown",
   "metadata": {},
   "source": [
    "# NBA Data - WEKA attributes"
   ]
  },
  {
   "cell_type": "markdown",
   "metadata": {},
   "source": [
    "We used WEKA to help us determine what were the best attributes to look at in order to predict our Hoopnet rating. The 8 metrics that were chosen were age, # of field goals, field goal percentage, 2-pointer percentage, effective field goal percentage, defensive rebounds, steals, and blocks. Once we filtered for the WEKA requested metrics, we split the master data, which consists of all the NBA data combined, into appropriate training and testing sets for the linear regression model. We then predicted the values of the testing set and compared them to the actual values, and got a r2 score of ~65%. That means our model is able to accurately predict Hoopnet rating with up to ~65% accuracy, which means that our model does a relatively decent job. We then plotted the actual and predicted values to get a visual representation of how our model did. \n",
    "\n",
    "We chose to use the r2 metric to base our accuracy since the r2 score is defined as \"the proportion of the variance in the dependent variable that is predictable from the independent variable(s).” In other words, it shows how correlated the values are. If it is 100%, the two variables are perfectly correlated. Since we got an r2 score of ~65%, this means that our regression model is not the most completely valid since it isn't at 100%."
   ]
  },
  {
   "cell_type": "code",
   "execution_count": 4,
   "metadata": {
    "collapsed": true
   },
   "outputs": [],
   "source": [
    "dn = pd.read_csv('Downloads/Master data - NBA.csv')\n",
    "dataNBA = dn[['Age', 'FG', 'FG%', '2P%', 'eFG%', 'DRB', 'STL', 'BLK']]\n",
    "hoopnetNBA = dn['Hoopnet']"
   ]
  },
  {
   "cell_type": "code",
   "execution_count": 5,
   "metadata": {
    "collapsed": true
   },
   "outputs": [],
   "source": [
    "X_train, X_test, Y_train, Y_test = train_test_split(dataNBA, hoopnetNBA, train_size=0.70, test_size = 0.3, random_state=42)"
   ]
  },
  {
   "cell_type": "code",
   "execution_count": 6,
   "metadata": {},
   "outputs": [
    {
     "data": {
      "text/plain": [
       "LinearRegression(copy_X=True, fit_intercept=True, n_jobs=1, normalize=False)"
      ]
     },
     "execution_count": 6,
     "metadata": {},
     "output_type": "execute_result"
    }
   ],
   "source": [
    "regWEKA.fit(X_train, Y_train)"
   ]
  },
  {
   "cell_type": "code",
   "execution_count": 7,
   "metadata": {
    "collapsed": true
   },
   "outputs": [],
   "source": [
    "predictedWEKA = regWEKA.predict(X_test)"
   ]
  },
  {
   "cell_type": "code",
   "execution_count": 8,
   "metadata": {},
   "outputs": [
    {
     "data": {
      "text/plain": [
       "0.6528848696631478"
      ]
     },
     "execution_count": 8,
     "metadata": {},
     "output_type": "execute_result"
    }
   ],
   "source": [
    "r2_score(Y_test, predictedWEKA)"
   ]
  },
  {
   "cell_type": "code",
   "execution_count": 9,
   "metadata": {},
   "outputs": [
    {
     "data": {
      "image/png": "[encoded data removed]",
      "text/plain": [
       "<matplotlib.figure.Figure at 0x1a1a385ac8>"
      ]
     },
     "metadata": {},
     "output_type": "display_data"
    }
   ],
   "source": [
    "plt.scatter(X_test.iloc[:,0].values, Y_test, color = 'red')\n",
    "plt.scatter(X_test.iloc[:,0].values, predictedWEKA, color = 'blue')\n",
    "plt.show()"
   ]
  },
  {
   "cell_type": "markdown",
   "metadata": {
    "collapsed": true
   },
   "source": [
    "# NBA Data all"
   ]
  },
  {
   "cell_type": "markdown",
   "metadata": {},
   "source": [
    "In this case, we decided to keep all of the attributes to test if WEKA did a good job at deciding what attributes were the best at predicting Hoopnet rating. We then split the master data, which consists of all the NBA data combined, into appropriate training and testing sets for the linear regression model. We then predicted the values of the testing set and compared them to the actual values, and got a r2 score of ~68%. That means our model is able to accurately predict Hoopnet rating with up to ~68% accuracy, which means that our model does a relatively decent job. We then plotted the actual and predicted values to get a visual representation of how our model did. \n",
    "\n",
    "We chose to use the r2 metric to base our accuracy since the r2 score is defined as \"the proportion of the variance in the dependent variable that is predictable from the independent variable(s).” In other words, it shows how correlated the values are. If it is 100%, the two variables are perfectly correlated. Since we got an r2 score of ~68%, this means that our regression model is not the most completely valid since it isn't at 100%.\n",
    "\n",
    "Even though the model with all the attributes was higher than the WEKA-based model, the two models differed by only ~3% in accuracy. The full model had 27 attributes while the WEKA-based model had only 8, so we can respect the WEKA-based model since it incorporated less than 1/3 of the attributes as the full model."
   ]
  },
  {
   "cell_type": "code",
   "execution_count": 10,
   "metadata": {
    "collapsed": true
   },
   "outputs": [],
   "source": [
    "dn = pd.read_csv('Downloads/Master data - NBA.csv')\n",
    "dataNBAx = dn[['Years in College', 'Age', 'G', 'GS', 'MP', 'FG', 'FGA', 'FG%', '3P',\n",
    "       '3PA', '3P%', '2P', '2PA', '2P%', 'eFG%', 'FT', 'FTA', 'FT%', 'ORB',\n",
    "       'DRB', 'TRB', 'AST', 'STL', 'BLK', 'TOV', 'PF', 'PS/G']]\n",
    "hoopnetNBAx = dn['Hoopnet']\n",
    "\n",
    "dataNBA = dataNBAx.reset_index().fillna(0)\n",
    "hoopnetNBA = hoopnetNBAx.reset_index().fillna(0)"
   ]
  },
  {
   "cell_type": "code",
   "execution_count": 11,
   "metadata": {
    "collapsed": true
   },
   "outputs": [],
   "source": [
    "dataNBA.drop(['index'], axis=1, inplace=True)"
   ]
  },
  {
   "cell_type": "code",
   "execution_count": 12,
   "metadata": {
    "collapsed": true
   },
   "outputs": [],
   "source": [
    "hoopnetNBA.drop(['index'], axis=1, inplace=True)"
   ]
  },
  {
   "cell_type": "code",
   "execution_count": 13,
   "metadata": {
    "collapsed": true
   },
   "outputs": [],
   "source": [
    "X_train, X_test, Y_train, Y_test = train_test_split(dataNBA, hoopnetNBA, train_size=0.70, test_size = 0.3, random_state=42)"
   ]
  },
  {
   "cell_type": "code",
   "execution_count": 14,
   "metadata": {},
   "outputs": [
    {
     "data": {
      "text/plain": [
       "LinearRegression(copy_X=True, fit_intercept=True, n_jobs=1, normalize=False)"
      ]
     },
     "execution_count": 14,
     "metadata": {},
     "output_type": "execute_result"
    }
   ],
   "source": [
    "regAll.fit(X_train, Y_train)"
   ]
  },
  {
   "cell_type": "code",
   "execution_count": 15,
   "metadata": {
    "collapsed": true
   },
   "outputs": [],
   "source": [
    "predictedAll = regAll.predict(X_test)"
   ]
  },
  {
   "cell_type": "code",
   "execution_count": 16,
   "metadata": {},
   "outputs": [
    {
     "data": {
      "text/plain": [
       "0.6798214493424604"
      ]
     },
     "execution_count": 16,
     "metadata": {},
     "output_type": "execute_result"
    }
   ],
   "source": [
    "r2_score(Y_test, predictedAll)"
   ]
  },
  {
   "cell_type": "code",
   "execution_count": 17,
   "metadata": {},
   "outputs": [
    {
     "data": {
      "image/png": "[encoded data removed]",
      "text/plain": [
       "<matplotlib.figure.Figure at 0x1a1a3c2e80>"
      ]
     },
     "metadata": {},
     "output_type": "display_data"
    }
   ],
   "source": [
    "plt.scatter(X_test.iloc[:,0].values, Y_test, color = 'red')\n",
    "plt.scatter(X_test.iloc[:,0].values, predictedAll, color = 'blue')\n",
    "plt.show()"
   ]
  },
  {
   "cell_type": "markdown",
   "metadata": {},
   "source": [
    "# Predicting the 2019 draft class"
   ]
  },
  {
   "cell_type": "markdown",
   "metadata": {},
   "source": [
    "There are 50 players as of now that have declared for the draft, and we have college statistics for only 44 of them since those 44 played college basketball in the United States. We have their most reason college season stats, and we are going to predict their Hoopnet ranking using that data. The Hoopnet ranking will be a estimation of their skill in 5 years. We will be using the WEKA model because it is a lot more efficient than the full model because it is only 3% less accurate with a third of the attributes. \n",
    "\n",
    "With this model we aren't able to definitely establish what order they should be drafted in, since our accuracy for the WEKA model is ~65%. However, this model is able to group the players into different groups based on their predicted Hoopnet ranking. Players like Zion, Bol, and Ja are ahead of the pack, while players like Kevin, Nassir, and Jontay are at the bottom of the pack. \n",
    "\n",
    "Coaches can use this predicted Hoopnet ranking to see who would be the best asset to their respective team based on what they want. If they are looking for a certain type of player, they can identify which of the potential draftees plays that position, and then look at the Hoopnet rankings to see who is the best out of the players they have identified. "
   ]
  },
  {
   "cell_type": "code",
   "execution_count": 18,
   "metadata": {
    "collapsed": true
   },
   "outputs": [],
   "source": [
    "draft2019 = pd.read_csv('Downloads/2019 Draft Stats  - Sheet1.csv')\n",
    "names = draft2019[['Player']]\n",
    "weka = draft2019[['Age', 'FG', 'FG%', '2P%', 'eFG%', 'DRB', 'STL', 'BLK']]"
   ]
  },
  {
   "cell_type": "code",
   "execution_count": 19,
   "metadata": {
    "collapsed": true
   },
   "outputs": [],
   "source": [
    "predicted = regWEKA.predict(weka)\n",
    "predicted = pd.DataFrame(data=predicted)"
   ]
  },
  {
   "cell_type": "code",
   "execution_count": 20,
   "metadata": {},
   "outputs": [
    {
     "data": {
      "text/html": [
       "<div>\n",
       "<style scoped>\n",
       "    .dataframe tbody tr th:only-of-type {\n",
       "        vertical-align: middle;\n",
       "    }\n",
       "\n",
       "    .dataframe tbody tr th {\n",
       "        vertical-align: top;\n",
       "    }\n",
       "\n",
       "    .dataframe thead th {\n",
       "        text-align: right;\n",
       "    }\n",
       "</style>\n",
       "<table border=\"1\" class=\"dataframe\">\n",
       "  <thead>\n",
       "    <tr style=\"text-align: right;\">\n",
       "      <th></th>\n",
       "      <th>Player</th>\n",
       "      <th>Hoopnet Ranking</th>\n",
       "    </tr>\n",
       "  </thead>\n",
       "  <tbody>\n",
       "    <tr>\n",
       "      <th>0</th>\n",
       "      <td>Zion Williamson</td>\n",
       "      <td>34.6178</td>\n",
       "    </tr>\n",
       "    <tr>\n",
       "      <th>1</th>\n",
       "      <td>Ja Morant</td>\n",
       "      <td>26.2848</td>\n",
       "    </tr>\n",
       "    <tr>\n",
       "      <th>2</th>\n",
       "      <td>RJ Barrett</td>\n",
       "      <td>24.0199</td>\n",
       "    </tr>\n",
       "    <tr>\n",
       "      <th>3</th>\n",
       "      <td>Jaxson Hayes</td>\n",
       "      <td>19.04</td>\n",
       "    </tr>\n",
       "    <tr>\n",
       "      <th>4</th>\n",
       "      <td>Darius Garland</td>\n",
       "      <td>17.4425</td>\n",
       "    </tr>\n",
       "    <tr>\n",
       "      <th>5</th>\n",
       "      <td>Coby White</td>\n",
       "      <td>15.7677</td>\n",
       "    </tr>\n",
       "    <tr>\n",
       "      <th>6</th>\n",
       "      <td>Cam Reddish</td>\n",
       "      <td>14.1665</td>\n",
       "    </tr>\n",
       "    <tr>\n",
       "      <th>7</th>\n",
       "      <td>Jarrett Culver</td>\n",
       "      <td>21.9315</td>\n",
       "    </tr>\n",
       "    <tr>\n",
       "      <th>8</th>\n",
       "      <td>De'Andre Hunter</td>\n",
       "      <td>15.845</td>\n",
       "    </tr>\n",
       "    <tr>\n",
       "      <th>9</th>\n",
       "      <td>PJ Washington</td>\n",
       "      <td>18.6811</td>\n",
       "    </tr>\n",
       "    <tr>\n",
       "      <th>10</th>\n",
       "      <td>Brandon Clarke</td>\n",
       "      <td>27.7256</td>\n",
       "    </tr>\n",
       "    <tr>\n",
       "      <th>11</th>\n",
       "      <td>Nassir Little</td>\n",
       "      <td>12.2843</td>\n",
       "    </tr>\n",
       "    <tr>\n",
       "      <th>12</th>\n",
       "      <td>Rui Hachimura</td>\n",
       "      <td>23.3747</td>\n",
       "    </tr>\n",
       "    <tr>\n",
       "      <th>13</th>\n",
       "      <td>Nickeil Alexander-Walker</td>\n",
       "      <td>19.8963</td>\n",
       "    </tr>\n",
       "    <tr>\n",
       "      <th>14</th>\n",
       "      <td>Grant Williams</td>\n",
       "      <td>22.92</td>\n",
       "    </tr>\n",
       "    <tr>\n",
       "      <th>15</th>\n",
       "      <td>Kezie Okpala</td>\n",
       "      <td>18.2464</td>\n",
       "    </tr>\n",
       "    <tr>\n",
       "      <th>16</th>\n",
       "      <td>Keldon Johnson</td>\n",
       "      <td>14.7478</td>\n",
       "    </tr>\n",
       "    <tr>\n",
       "      <th>17</th>\n",
       "      <td>Romeo Langford</td>\n",
       "      <td>17.3207</td>\n",
       "    </tr>\n",
       "    <tr>\n",
       "      <th>18</th>\n",
       "      <td>Mfiondu Kabengele</td>\n",
       "      <td>14.9152</td>\n",
       "    </tr>\n",
       "    <tr>\n",
       "      <th>19</th>\n",
       "      <td>Kevin Porter Jr.</td>\n",
       "      <td>11.922</td>\n",
       "    </tr>\n",
       "    <tr>\n",
       "      <th>20</th>\n",
       "      <td>Tyler Herro</td>\n",
       "      <td>16.3931</td>\n",
       "    </tr>\n",
       "    <tr>\n",
       "      <th>21</th>\n",
       "      <td>Bol Bol</td>\n",
       "      <td>28.1855</td>\n",
       "    </tr>\n",
       "    <tr>\n",
       "      <th>22</th>\n",
       "      <td>Ty Jerome</td>\n",
       "      <td>15.0002</td>\n",
       "    </tr>\n",
       "    <tr>\n",
       "      <th>23</th>\n",
       "      <td>Luguentz Dort</td>\n",
       "      <td>15.9048</td>\n",
       "    </tr>\n",
       "    <tr>\n",
       "      <th>24</th>\n",
       "      <td>Talen Horton-Tucker</td>\n",
       "      <td>16.0194</td>\n",
       "    </tr>\n",
       "    <tr>\n",
       "      <th>25</th>\n",
       "      <td>Cameron Johnson</td>\n",
       "      <td>16.7172</td>\n",
       "    </tr>\n",
       "    <tr>\n",
       "      <th>26</th>\n",
       "      <td>Bruno Fernando</td>\n",
       "      <td>21.5699</td>\n",
       "    </tr>\n",
       "    <tr>\n",
       "      <th>27</th>\n",
       "      <td>Admiral Schofield</td>\n",
       "      <td>18.0031</td>\n",
       "    </tr>\n",
       "    <tr>\n",
       "      <th>28</th>\n",
       "      <td>Daniel Gafford</td>\n",
       "      <td>25.6948</td>\n",
       "    </tr>\n",
       "    <tr>\n",
       "      <th>29</th>\n",
       "      <td>Carsen Edwards</td>\n",
       "      <td>19.526</td>\n",
       "    </tr>\n",
       "    <tr>\n",
       "      <th>30</th>\n",
       "      <td>Matisse Thybulle</td>\n",
       "      <td>19.6248</td>\n",
       "    </tr>\n",
       "    <tr>\n",
       "      <th>31</th>\n",
       "      <td>Chuma Okeke</td>\n",
       "      <td>18.552</td>\n",
       "    </tr>\n",
       "    <tr>\n",
       "      <th>32</th>\n",
       "      <td>Louis King</td>\n",
       "      <td>14.215</td>\n",
       "    </tr>\n",
       "    <tr>\n",
       "      <th>33</th>\n",
       "      <td>Eric Paschall</td>\n",
       "      <td>15.0473</td>\n",
       "    </tr>\n",
       "    <tr>\n",
       "      <th>34</th>\n",
       "      <td>Shamorie Ponds</td>\n",
       "      <td>23.2179</td>\n",
       "    </tr>\n",
       "    <tr>\n",
       "      <th>35</th>\n",
       "      <td>Dedric Lawson</td>\n",
       "      <td>23.4991</td>\n",
       "    </tr>\n",
       "    <tr>\n",
       "      <th>36</th>\n",
       "      <td>Isaiah Roby</td>\n",
       "      <td>17.1339</td>\n",
       "    </tr>\n",
       "    <tr>\n",
       "      <th>37</th>\n",
       "      <td>Dylan Windler</td>\n",
       "      <td>24.779</td>\n",
       "    </tr>\n",
       "    <tr>\n",
       "      <th>38</th>\n",
       "      <td>Jalen McDaniels</td>\n",
       "      <td>19.9929</td>\n",
       "    </tr>\n",
       "    <tr>\n",
       "      <th>39</th>\n",
       "      <td>Jaylen Hoard</td>\n",
       "      <td>15.6754</td>\n",
       "    </tr>\n",
       "    <tr>\n",
       "      <th>40</th>\n",
       "      <td>Tremont Waters</td>\n",
       "      <td>20.1567</td>\n",
       "    </tr>\n",
       "    <tr>\n",
       "      <th>41</th>\n",
       "      <td>Lindell Wigginton</td>\n",
       "      <td>10.7898</td>\n",
       "    </tr>\n",
       "    <tr>\n",
       "      <th>42</th>\n",
       "      <td>Charles Bassey</td>\n",
       "      <td>24.4099</td>\n",
       "    </tr>\n",
       "    <tr>\n",
       "      <th>43</th>\n",
       "      <td>Naz Reid</td>\n",
       "      <td>16.3799</td>\n",
       "    </tr>\n",
       "    <tr>\n",
       "      <th>44</th>\n",
       "      <td>Jontay Porter</td>\n",
       "      <td>13.4932</td>\n",
       "    </tr>\n",
       "  </tbody>\n",
       "</table>\n",
       "</div>"
      ],
      "text/plain": [
       "                      Player Hoopnet Ranking\n",
       "0            Zion Williamson         34.6178\n",
       "1                  Ja Morant         26.2848\n",
       "2                 RJ Barrett         24.0199\n",
       "3               Jaxson Hayes           19.04\n",
       "4             Darius Garland         17.4425\n",
       "5                 Coby White         15.7677\n",
       "6                Cam Reddish         14.1665\n",
       "7             Jarrett Culver         21.9315\n",
       "8            De'Andre Hunter          15.845\n",
       "9              PJ Washington         18.6811\n",
       "10            Brandon Clarke         27.7256\n",
       "11             Nassir Little         12.2843\n",
       "12             Rui Hachimura         23.3747\n",
       "13  Nickeil Alexander-Walker         19.8963\n",
       "14            Grant Williams           22.92\n",
       "15              Kezie Okpala         18.2464\n",
       "16            Keldon Johnson         14.7478\n",
       "17            Romeo Langford         17.3207\n",
       "18         Mfiondu Kabengele         14.9152\n",
       "19          Kevin Porter Jr.          11.922\n",
       "20               Tyler Herro         16.3931\n",
       "21                   Bol Bol         28.1855\n",
       "22                 Ty Jerome         15.0002\n",
       "23             Luguentz Dort         15.9048\n",
       "24       Talen Horton-Tucker         16.0194\n",
       "25           Cameron Johnson         16.7172\n",
       "26            Bruno Fernando         21.5699\n",
       "27         Admiral Schofield         18.0031\n",
       "28            Daniel Gafford         25.6948\n",
       "29            Carsen Edwards          19.526\n",
       "30          Matisse Thybulle         19.6248\n",
       "31               Chuma Okeke          18.552\n",
       "32                Louis King          14.215\n",
       "33             Eric Paschall         15.0473\n",
       "34            Shamorie Ponds         23.2179\n",
       "35             Dedric Lawson         23.4991\n",
       "36               Isaiah Roby         17.1339\n",
       "37             Dylan Windler          24.779\n",
       "38           Jalen McDaniels         19.9929\n",
       "39              Jaylen Hoard         15.6754\n",
       "40            Tremont Waters         20.1567\n",
       "41         Lindell Wigginton         10.7898\n",
       "42            Charles Bassey         24.4099\n",
       "43                  Naz Reid         16.3799\n",
       "44             Jontay Porter         13.4932"
      ]
     },
     "execution_count": 20,
     "metadata": {},
     "output_type": "execute_result"
    }
   ],
   "source": [
    "players = names.values\n",
    "hoopnet = predicted.values\n",
    "\n",
    "concat = np.concatenate((players, hoopnet), axis=1)\n",
    "final = pd.DataFrame(concat, columns=['Player', 'Hoopnet Ranking'])\n",
    "final"
   ]
  },
  {
   "cell_type": "code",
   "execution_count": null,
   "metadata": {
    "collapsed": true
   },
   "outputs": [],
   "source": []
  }
 ],
 "metadata": {
  "kernelspec": {
   "display_name": "Python 3",
   "language": "python",
   "name": "python3"
  },
  "language_info": {
   "codemirror_mode": {
    "name": "ipython",
    "version": 3
   },
   "file_extension": ".py",
   "mimetype": "text/x-python",
   "name": "python",
   "nbconvert_exporter": "python",
   "pygments_lexer": "ipython3",
   "version": "3.6.8"
  }
 },
 "nbformat": 4,
 "nbformat_minor": 2
}
